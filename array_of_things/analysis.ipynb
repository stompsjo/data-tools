{
 "cells": [
  {
   "cell_type": "code",
   "execution_count": 16,
   "metadata": {},
   "outputs": [],
   "source": [
    "import numpy as np\n",
    "import matplotlib.pyplot as plt\n",
    "import h5py\n",
    "%matplotlib inline"
   ]
  },
  {
   "cell_type": "code",
   "execution_count": 17,
   "metadata": {},
   "outputs": [
    {
     "data": {
      "text/plain": [
       "['node_107e5d',\n",
       " 'node_10890f',\n",
       " 'node_109401',\n",
       " 'node_109416',\n",
       " 'node_109f62',\n",
       " 'node_10b9e5',\n",
       " 'node_10b9e7',\n",
       " 'node_10b9e9',\n",
       " 'node_10ba13',\n",
       " 'node_10ba15',\n",
       " 'node_10ba16',\n",
       " 'node_10ba18',\n",
       " 'node_10ba3b',\n",
       " 'node_10ba46',\n",
       " 'node_10ba57',\n",
       " 'node_10ba81',\n",
       " 'node_10ba8b',\n",
       " 'node_10ba8f',\n",
       " 'node_10bbe5',\n",
       " 'node_10bbf9',\n",
       " 'node_10bbff',\n",
       " 'node_10bc07',\n",
       " 'node_10bc10',\n",
       " 'node_10bc12',\n",
       " 'node_10e532',\n",
       " 'node_10e537',\n",
       " 'node_10e538',\n",
       " 'node_10e539',\n",
       " 'node_10e540',\n",
       " 'node_10e809',\n",
       " 'node_10e835',\n",
       " 'node_10e8cb',\n",
       " 'node_10ea5a',\n",
       " 'node_10ee33',\n",
       " 'node_10ee36',\n",
       " 'node_10ee41',\n",
       " 'node_10ee43',\n",
       " 'node_10ee5d',\n",
       " 'node_10ee61',\n",
       " 'node_10ee6f',\n",
       " 'node_10ee82',\n",
       " 'node_10eef2',\n",
       " 'node_10eef4',\n",
       " 'node_10ef26',\n",
       " 'node_10ef27',\n",
       " 'node_10ef29',\n",
       " 'node_10ef68',\n",
       " 'node_10ef73',\n",
       " 'node_10f02f',\n",
       " 'node_10f05c',\n",
       " 'node_10f513',\n",
       " 'node_10f668',\n",
       " 'node_10f6db',\n",
       " 'node_10f6dd',\n",
       " 'node_10f703',\n",
       " 'node_10f730',\n",
       " 'node_10f732',\n",
       " 'node_10f8f4',\n",
       " 'node_10fb4c',\n",
       " 'node_112e77',\n",
       " 'node_1130f4',\n",
       " 'node_113100',\n",
       " 'node_113107',\n",
       " 'node_1135cb',\n",
       " 'node_113a24',\n",
       " 'node_113a48',\n",
       " 'node_113acb',\n",
       " 'node_113ace',\n",
       " 'node_113ad6',\n",
       " 'node_113ad8',\n",
       " 'node_113ae8',\n",
       " 'node_113ba6',\n",
       " 'node_113cf1',\n",
       " 'node_113cff',\n",
       " 'node_113d20',\n",
       " 'node_113d22',\n",
       " 'node_113d32',\n",
       " 'node_113d78',\n",
       " 'node_113d83',\n",
       " 'node_113dbc',\n",
       " 'node_113f54',\n",
       " 'node_11441e',\n",
       " 'node_1144be',\n",
       " 'node_1144c0',\n",
       " 'node_1144cd',\n",
       " 'node_1144d6',\n",
       " 'node_114500',\n",
       " 'node_114503',\n",
       " 'node_11462f',\n",
       " 'node_11463b',\n",
       " 'node_1146ba',\n",
       " 'node_1146bc',\n",
       " 'node_1146cb',\n",
       " 'node_1146d4',\n",
       " 'node_1146d6',\n",
       " 'node_114fcf',\n",
       " 'node_114fd4',\n",
       " 'node_114fd6',\n",
       " 'node_114fd9',\n",
       " 'node_115365',\n",
       " 'node_115369',\n",
       " 'node_11536c',\n",
       " 'node_115379',\n",
       " 'node_11537d',\n",
       " 'node_115382',\n",
       " 'node_117b41',\n",
       " 'node_117b44',\n",
       " 'node_11804d',\n",
       " 'node_118182',\n",
       " 'node_1181e8',\n",
       " 'node_118295',\n",
       " 'node_1182a1',\n",
       " 'node_1182a2',\n",
       " 'node_1182a3',\n",
       " 'node_1182a7',\n",
       " 'node_1183bf',\n",
       " 'node_1183eb',\n",
       " 'node_1183f3',\n",
       " 'node_1183f5',\n",
       " 'node_118433',\n",
       " 'node_1184a3',\n",
       " 'node_1184e7',\n",
       " 'node_118501',\n",
       " 'node_118509',\n",
       " 'node_11850f',\n",
       " 'node_11856d']"
      ]
     },
     "execution_count": 17,
     "metadata": {},
     "output_type": "execute_result"
    }
   ],
   "source": [
    "f = h5py.File('aot_chicago_data.h5', 'r')\n",
    "list(f.keys())"
   ]
  },
  {
   "cell_type": "code",
   "execution_count": 18,
   "metadata": {},
   "outputs": [],
   "source": [
    "data = f['node_10ba46']"
   ]
  },
  {
   "cell_type": "code",
   "execution_count": 19,
   "metadata": {},
   "outputs": [
    {
     "data": {
      "text/plain": [
       "<KeysViewHDF5 ['apds_9006_020', 'at0', 'at1', 'at2', 'at3', 'bmp180', 'chemsense', 'co', 'device', 'disk_size', 'disk_used', 'disk_used_ratio', 'h2s', 'hih4030', 'hih6130', 'hmc5883l', 'htu21d', 'image_detector', 'loadavg', 'lps25h', 'media', 'mem', 'metsense', 'microphone', 'ml8511', 'mlx75305', 'mma8452q', 'modem', 'net_rx', 'net_tx', 'no2', 'o3', 'opc_n2', 'oxidizing_gases', 'ping', 'plugins', 'pms7003', 'pr103j2', 'reducing_gases', 'sensor', 'service_active', 'sht25', 'si1145', 'so2', 'spv1840lr5h_b', 'temperatures', 'time', 'tmp112', 'tmp421', 'tsl250rd', 'tsl260rd', 'tsys01', 'uptime', 'wagman_comm', 'wagman_cu', 'wagman_enabled', 'wagman_fc', 'wagman_hb', 'wagman_killing', 'wagman_starting', 'wagman_stopping', 'wagman_th', 'wagman_uptime', 'wagman_vdc']>"
      ]
     },
     "execution_count": 19,
     "metadata": {},
     "output_type": "execute_result"
    }
   ],
   "source": [
    "data['lightsense'].keys()"
   ]
  },
  {
   "cell_type": "code",
   "execution_count": null,
   "metadata": {},
   "outputs": [],
   "source": []
  }
 ],
 "metadata": {
  "kernelspec": {
   "display_name": "Python 3",
   "language": "python",
   "name": "python3"
  },
  "language_info": {
   "codemirror_mode": {
    "name": "ipython",
    "version": 3
   },
   "file_extension": ".py",
   "mimetype": "text/x-python",
   "name": "python",
   "nbconvert_exporter": "python",
   "pygments_lexer": "ipython3",
   "version": "3.6.9"
  }
 },
 "nbformat": 4,
 "nbformat_minor": 4
}
